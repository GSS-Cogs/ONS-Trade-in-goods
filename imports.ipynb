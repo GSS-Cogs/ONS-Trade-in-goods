{
 "cells": [
  {
   "cell_type": "markdown",
   "metadata": {},
   "source": [
    "Country by commodity imports"
   ]
  },
  {
   "cell_type": "code",
   "execution_count": 1,
   "metadata": {
    "collapsed": true
   },
   "outputs": [],
   "source": [
    "from gssutils import *\n",
    "\n",
    "if is_interactive():\n",
    "    import requests\n",
    "    from cachecontrol import CacheControl\n",
    "    from cachecontrol.caches.file_cache import FileCache\n",
    "    from cachecontrol.heuristics import LastModified\n",
    "    from pathlib import Path\n",
    "    from io import BytesIO\n",
    "\n",
    "    session = CacheControl(requests.Session(),\n",
    "                       cache=FileCache('.cache'),\n",
    "                       heuristic=LastModified())\n",
    "\n",
    "inputURL = 'https://www.ons.gov.uk/file?uri=/economy/nationalaccounts/balanceofpayments/datasets/uktradecountrybycommodityimports/current/countrybycommodityimportsfinal.xlsx'\n",
    "data = BytesIO(session.get(inputURL).content)\n"
   ]
  },
  {
   "cell_type": "code",
   "execution_count": 2,
   "metadata": {
    "collapsed": true
   },
   "outputs": [],
   "source": [
    "tab = pd.read_excel(data, header= 0)\n",
    "# tab.rename(columns=tab.iloc[0], inplace=True)"
   ]
  },
  {
   "cell_type": "code",
   "execution_count": 3,
   "metadata": {
    "collapsed": true
   },
   "outputs": [],
   "source": [
    "tab = tab.drop(['DIRECTION'], axis = 1)"
   ]
  },
  {
   "cell_type": "code",
   "execution_count": 4,
   "metadata": {
    "collapsed": true
   },
   "outputs": [],
   "source": [
    "tab.columns.values[0] = 'CORD SITC'\n",
    "tab.columns.values[1] = 'ONS Partner Geography'"
   ]
  },
  {
   "cell_type": "code",
   "execution_count": 5,
   "metadata": {
    "collapsed": true
   },
   "outputs": [],
   "source": [
    "new_table = pd.melt(tab, id_vars=['CORD SITC','ONS Partner Geography'], var_name='Period', value_name='Value')"
   ]
  },
  {
   "cell_type": "code",
   "execution_count": 6,
   "metadata": {},
   "outputs": [],
   "source": [
    "import re\n",
    "YEAR_RE = re.compile(r'[0-9]{4}')\n",
    "YEAR_MONTH_RE = re.compile(r'([0-9]{4})(JAN|FEB|MAR|APR|MAY|JUN|JUL|AUG|SEP|OCT|NOV|DEC)')\n",
    "YEAR_QUARTER_RE = re.compile(r'([0-9]{4})\\s+(Q[1-4])')\n",
    "\n",
    "# from https://stackoverflow.com/questions/597476/how-to-concisely-cascade-through-multiple-regex-statements-in-python\n",
    "class Re(object):\n",
    "  def __init__(self):\n",
    "    self.last_match = None\n",
    "  def fullmatch(self,pattern,text):\n",
    "    self.last_match = re.fullmatch(pattern,text)\n",
    "    return self.last_match\n",
    "\n",
    "def time2period(t):\n",
    "    gre = Re()\n",
    "    if gre.fullmatch(YEAR_RE, t):\n",
    "        return f\"year/{t}\"\n",
    "    elif gre.fullmatch(YEAR_MONTH_RE, t):\n",
    "        year, month = gre.last_match.groups()\n",
    "        month_num = {'JAN': '01', 'FEB': '02', 'MAR': '03', 'APR': '04', 'MAY': '05', 'JUN': '06',\n",
    "                     'JUL': '07', 'AUG': '08', 'SEP': '09', 'OCT': '10', 'NOV': '11', 'DEC': '12'}.get(month)\n",
    "        return f\"month/{year}-{month_num}\"\n",
    "    elif gre.fullmatch(YEAR_QUARTER_RE, t):\n",
    "        year, quarter = gre.last_match.groups()\n",
    "        return f\"quarter/{year}-{quarter}\"\n",
    "    else:\n",
    "        print(f\"no match for {t}\")\n",
    "\n",
    "new_table['Period'] = new_table['Period'].apply(time2period)"
   ]
  },
  {
   "cell_type": "code",
   "execution_count": 7,
   "metadata": {
    "collapsed": true
   },
   "outputs": [],
   "source": [
    "new_table['Seasonal Adjustment'] =  'NSA'\n",
    "new_table['Measure Type'] =  'GBP Total'\n",
    "new_table['Unit'] =  'gbp-million'\n",
    "new_table['Flow'] = 'imports'"
   ]
  },
  {
   "cell_type": "code",
   "execution_count": 8,
   "metadata": {
    "collapsed": true
   },
   "outputs": [],
   "source": [
    "new_table['Value'] = pd.to_numeric(new_table['Value'], errors='coerce').fillna(0)"
   ]
  },
  {
   "cell_type": "code",
   "execution_count": 9,
   "metadata": {
    "collapsed": true
   },
   "outputs": [],
   "source": [
    "new_table['Value'] = new_table['Value'].astype(int)"
   ]
  },
  {
   "cell_type": "code",
   "execution_count": 10,
   "metadata": {
    "collapsed": true
   },
   "outputs": [],
   "source": [
    "new_table['ONS Partner Geography'] = new_table['ONS Partner Geography'].astype(str).str[0:2] "
   ]
  },
  {
   "cell_type": "code",
   "execution_count": 11,
   "metadata": {},
   "outputs": [],
   "source": [
    "new_table['CORD SITC'] = new_table['CORD SITC'].str.partition(' ')"
   ]
  },
  {
   "cell_type": "code",
   "execution_count": 12,
   "metadata": {
    "collapsed": true
   },
   "outputs": [],
   "source": [
    "new_table = new_table[new_table['Value'] !=  0 ]"
   ]
  },
  {
   "cell_type": "code",
   "execution_count": 13,
   "metadata": {
    "collapsed": true
   },
   "outputs": [],
   "source": [
    "new_table = new_table[['ONS Partner Geography', 'Period','Flow','CORD SITC', 'Seasonal Adjustment', 'Measure Type','Value','Unit' ]]"
   ]
  },
  {
   "cell_type": "code",
   "execution_count": 14,
   "metadata": {
    "collapsed": true
   },
   "outputs": [],
   "source": [
    "if is_interactive():\n",
    "    SubstancetinationFolder = Path('out')\n",
    "    SubstancetinationFolder.mkdir(exist_ok=True, parents=True)\n",
    "    new_table.to_csv(SubstancetinationFolder / ('imports.csv'), index = False)"
   ]
  },
  {
   "cell_type": "code",
   "execution_count": null,
   "metadata": {
    "collapsed": true
   },
   "outputs": [],
   "source": []
  }
 ],
 "metadata": {
  "kernelspec": {
   "display_name": "Python 3",
   "language": "python",
   "name": "python3"
  },
  "language_info": {
   "codemirror_mode": {
    "name": "ipython",
    "version": 3
   },
   "file_extension": ".py",
   "mimetype": "text/x-python",
   "name": "python",
   "nbconvert_exporter": "python",
   "pygments_lexer": "ipython3",
   "version": "3.6.3"
  }
 },
 "nbformat": 4,
 "nbformat_minor": 2
}
