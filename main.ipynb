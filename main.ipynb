{
 "cells": [
  {
   "cell_type": "markdown",
   "metadata": {},
   "source": [
    "# ONS Trade in goods: country-by-commodity, imports and exports\n",
    "\n",
    "This data is split into two distributions, one for imports and the other for exports:\n",
    "\n",
    "https://www.ons.gov.uk/economy/nationalaccounts/balanceofpayments/datasets/uktradecountrybycommodityimports\n",
    "\n",
    "and\n",
    "\n",
    "https://www.ons.gov.uk/economy/nationalaccounts/balanceofpayments/datasets/uktradecountrybycommodityexports   "
   ]
  },
  {
   "cell_type": "code",
   "execution_count": 1,
   "metadata": {},
   "outputs": [],
   "source": [
    "from gssutils import *"
   ]
  },
  {
   "cell_type": "code",
   "execution_count": 3,
   "metadata": {},
   "outputs": [
    {
     "name": "stderr",
     "output_type": "stream",
     "text": [
      "WARNING:Cache entry deserialization failed, entry ignored\n"
     ]
    },
    {
     "data": {
      "text/plain": [
       "Index(['0 Food & live animals', '00 Live animals',\n",
       "       '01 Meat & meat preparations', '02 Dairy products & eggs',\n",
       "       '03 Fish & shellfish', '04 Cereals', '05 Vegetables & fruit',\n",
       "       '06 Sugar', '07 Coffee, tea, cocoa etc', '08 Animal feeding stuffs',\n",
       "       ...\n",
       "       '897C Jewellery', '89I Other manufactures (intermediate)',\n",
       "       '89K Other manufactures (capital)',\n",
       "       '89OC Other manufactures (consumer)', '8O Other manufactures',\n",
       "       '8OC Other miscellaneous manufactures (consumer)',\n",
       "       '8OI Other miscellaneous manufactures (intermediate)',\n",
       "       '8OK Other miscellaneous manufactures (capital)', '9 Unspecified goods',\n",
       "       'T Total'],\n",
       "      dtype='object', length=125)"
      ]
     },
     "metadata": {},
     "output_type": "display_data"
    },
    {
     "data": {
      "text/plain": [
       "Index(['AD Andorra', 'AE United Arab Emirates', 'AF Afghanistan',\n",
       "       'AG Antigua & Barbuda', 'AI Anguilla', 'AL Albania', 'AM Armenia',\n",
       "       'AO Angola', 'AQ Antarctica', 'AR Argentina',\n",
       "       ...\n",
       "       'VN Vietnam', 'VU Vanuatu', 'W1 Whole world', 'WF Wallis & Futuna',\n",
       "       'WS Samoa', 'XK Kosovo', 'YE Yemen', 'ZA South Africa', 'ZM Zambia',\n",
       "       'ZW Zimbabwe'],\n",
       "      dtype='object', length=237)"
      ]
     },
     "metadata": {},
     "output_type": "display_data"
    },
    {
     "data": {
      "text/plain": [
       "Index(['0', '00', '01', '02', '03', '04', '05', '06', '07', '08',\n",
       "       ...\n",
       "       '897C', '89I', '89K', '89OC', '8O', '8OC', '8OI', '8OK', '9', 'T'],\n",
       "      dtype='object', length=125)"
      ]
     },
     "metadata": {},
     "output_type": "display_data"
    },
    {
     "data": {
      "text/plain": [
       "Index(['AD', 'AE', 'AF', 'AG', 'AI', 'AL', 'AM', 'AO', 'AQ', 'AR',\n",
       "       ...\n",
       "       'VN', 'VU', 'W1', 'WF', 'WS', 'XK', 'YE', 'ZA', 'ZM', 'ZW'],\n",
       "      dtype='object', length=237)"
      ]
     },
     "metadata": {},
     "output_type": "display_data"
    },
    {
     "name": "stderr",
     "output_type": "stream",
     "text": [
      "WARNING:Cache entry deserialization failed, entry ignored\n"
     ]
    },
    {
     "data": {
      "text/plain": [
       "Index(['0 Food & live animals', '00 Live animals',\n",
       "       '01 Meat & meat preparations', '02 Dairy products & eggs',\n",
       "       '03 Fish & shellfish', '04 Cereals', '05 Vegetables & fruit',\n",
       "       '06 Sugar', '07 Coffee, tea, cocoa etc', '08 Animal feeding stuffs',\n",
       "       ...\n",
       "       '897C Jewellery', '89I Other manufactures (intermediate)',\n",
       "       '89K Other manufactures (capital)',\n",
       "       '89OC Other manufactures (consumer)', '8O Other manufactures',\n",
       "       '8OC Other miscellaneous manufactures (consumer)',\n",
       "       '8OI Other miscellaneous manufactures (intermediate)',\n",
       "       '8OK Other miscellaneous manufactures (capital)', '9 Unspecified goods',\n",
       "       'T Total'],\n",
       "      dtype='object', length=125)"
      ]
     },
     "metadata": {},
     "output_type": "display_data"
    },
    {
     "data": {
      "text/plain": [
       "Index(['AD Andorra', 'AE United Arab Emirates', 'AF Afghanistan',\n",
       "       'AG Antigua & Barbuda', 'AI Anguilla', 'AL Albania', 'AM Armenia',\n",
       "       'AO Angola', 'AQ Antarctica', 'AR Argentina',\n",
       "       ...\n",
       "       'VN Vietnam', 'VU Vanuatu', 'W1 Whole world', 'WF Wallis & Futuna',\n",
       "       'WS Samoa', 'XK Kosovo', 'YE Yemen', 'ZA South Africa', 'ZM Zambia',\n",
       "       'ZW Zimbabwe'],\n",
       "      dtype='object', length=237)"
      ]
     },
     "metadata": {},
     "output_type": "display_data"
    },
    {
     "data": {
      "text/plain": [
       "Index(['0', '00', '01', '02', '03', '04', '05', '06', '07', '08',\n",
       "       ...\n",
       "       '897C', '89I', '89K', '89OC', '8O', '8OC', '8OI', '8OK', '9', 'T'],\n",
       "      dtype='object', length=125)"
      ]
     },
     "metadata": {},
     "output_type": "display_data"
    },
    {
     "data": {
      "text/plain": [
       "Index(['AD', 'AE', 'AF', 'AG', 'AI', 'AL', 'AM', 'AO', 'AQ', 'AR',\n",
       "       ...\n",
       "       'VN', 'VU', 'W1', 'WF', 'WS', 'XK', 'YE', 'ZA', 'ZM', 'ZW'],\n",
       "      dtype='object', length=237)"
      ]
     },
     "metadata": {},
     "output_type": "display_data"
    }
   ],
   "source": [
    "def run_script(s):\n",
    "    %run \"$s\"\n",
    "    return table\n",
    "\n",
    "observations = pd.concat(\n",
    "    run_script(s) for s in ['exports.ipynb', 'imports.ipynb']\n",
    ").drop_duplicates()"
   ]
  },
  {
   "cell_type": "code",
   "execution_count": 4,
   "metadata": {},
   "outputs": [],
   "source": [
    "from pathlib import Path\n",
    "import numpy as np\n",
    "out = Path('out')\n",
    "out.mkdir(exist_ok=True)\n",
    "slice_size = 100000\n",
    "\n",
    "for i in np.arange(len(observations) // slice_size):\n",
    "    dest_file = out / f'observations_{i:04}.csv'\n",
    "    observations.iloc[i * slice_size : i * slice_size + slice_size - 1].to_csv(dest_file, index=False)"
   ]
  },
  {
   "cell_type": "markdown",
   "metadata": {},
   "source": [
    "Fix up title and description as we're combining the data into one Data Cube dataset"
   ]
  },
  {
   "cell_type": "code",
   "execution_count": 5,
   "metadata": {},
   "outputs": [
    {
     "data": {
      "text/html": [
       "<h3>PMDDataset</h3>\n",
       "<dl><dt>rdfs:label</dt><dd>&quot;Trade in goods: country-by-commodity imports and exports&quot;@en</dd>\n",
       "<dt>rdfs:comment</dt><dd>&quot;Monthly import and export country-by-commodity data on the UK&#x27;s trade in goods, including trade by all countries and selected commodities, non-seasonally adjusted.&quot;@en</dd>\n",
       "<dt>dct:title</dt><dd>&quot;Trade in goods: country-by-commodity imports and exports&quot;@en</dd>\n",
       "<dt>dct:publisher</dt><dd><a href=https://www.gov.uk/government/organisations/office-for-national-statistics>&lt;https://www.gov.uk/government/organisations/office-for-national-statistics&gt;</a></dd>\n",
       "<dt>dct:issued</dt><dd>&quot;2019-01-11&quot;^^&lt;http://www.w3.org/2001/XMLSchema#date&gt;</dd>\n",
       "<dt>dct:modified</dt><dd>&quot;2019-01-21T18:29:59.234009&quot;^^&lt;http://www.w3.org/2001/XMLSchema#dateTime&gt;</dd>\n",
       "<dt>dcat:contactPoint</dt><dd><a href=mailto:trade@ons.gov.uk>&lt;mailto:trade@ons.gov.uk&gt;</a></dd>\n",
       "<dt>dcat:landingPage</dt><dd><a href=https://www.ons.gov.uk/economy/nationalaccounts/balanceofpayments/datasets/uktradecountrybycommodityimports>&lt;https://www.ons.gov.uk/economy/nationalaccounts/balanceofpayments/datasets/uktradecountrybycommodityimports&gt;</a></dd>\n",
       "<dt>dcat:theme</dt><dd><a href=http://gss-data.org.uk/def/concept/statistics-authority-themes/business-industry-trade-energy>&lt;http://gss-data.org.uk/def/concept/statistics-authority-themes/business-industry-trade-energy&gt;</a></dd>\n",
       "<dt>pmd:updateDueOn</dt><dd>&quot;2019-02-11&quot;^^&lt;http://www.w3.org/2001/XMLSchema#date&gt;</dd>\n",
       "<dt>gdp:family</dt><dd><a href=http://gss-data.org.uk/def/gdp#trade>&lt;http://gss-data.org.uk/def/gdp#trade&gt;</a></dd>\n",
       "<dt>void:sparqlEndpoint</dt><dd><a href=/sparql>&lt;/sparql&gt;</a></dd>\n",
       "<dt>pmd:graph</dt><dd><a href=graph/www/ons/gov/uk/economy/nationalaccounts/balanceofpayments/datasets/uktradecountrybycommodityimports>&lt;graph/www/ons/gov/uk/economy/nationalaccounts/balanceofpayments/datasets/uktradecountrybycommodityimports&gt;</a></dd>\n",
       "<dt>pmd:contactEmail</dt><dd><a href=mailto:trade@ons.gov.uk>&lt;mailto:trade@ons.gov.uk&gt;</a></dd>\n",
       "<dt>dct:license</dt><dd><a href=http://www.nationalarchives.gov.uk/doc/open-government-licence/version/3/>&lt;http://www.nationalarchives.gov.uk/doc/open-government-licence/version/3/&gt;</a></dd>\n",
       "<dt>dct:creator</dt><dd><a href=https://www.gov.uk/government/organisations/office-for-national-statistics>&lt;https://www.gov.uk/government/organisations/office-for-national-statistics&gt;</a></dd>\n",
       "</dl>"
      ],
      "text/plain": [
       "<gssutils.metadata.PMDDataset at 0x7fab3b8b7f28>"
      ]
     },
     "execution_count": 5,
     "metadata": {},
     "output_type": "execute_result"
    }
   ],
   "source": [
    "from gssutils.metadata import THEME\n",
    "scraper.dataset.family = 'Trade'\n",
    "scraper.dataset.theme = THEME['business-industry-trade-energy']\n",
    "scraper.dataset.title = scraper.dataset.title.replace('imports', 'imports and exports')\n",
    "scraper.dataset.comment = scraper.dataset.comment.replace('import', 'import and export')\n",
    "\n",
    "scraper.dataset"
   ]
  },
  {
   "cell_type": "code",
   "execution_count": 6,
   "metadata": {},
   "outputs": [],
   "source": [
    "with open(out / 'dataset.trig', 'wb') as metadata:\n",
    "     metadata.write(scraper.generate_trig())"
   ]
  }
 ],
 "metadata": {
  "kernelspec": {
   "display_name": "Python 3",
   "language": "python",
   "name": "python3"
  },
  "language_info": {
   "codemirror_mode": {
    "name": "ipython",
    "version": 3
   },
   "file_extension": ".py",
   "mimetype": "text/x-python",
   "name": "python",
   "nbconvert_exporter": "python",
   "pygments_lexer": "ipython3",
   "version": "3.7.2"
  }
 },
 "nbformat": 4,
 "nbformat_minor": 2
}
